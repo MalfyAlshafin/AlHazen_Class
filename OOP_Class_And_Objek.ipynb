{
  "nbformat": 4,
  "nbformat_minor": 0,
  "metadata": {
    "colab": {
      "provenance": [],
      "authorship_tag": "ABX9TyMCC41L2d78rzsRmeJEUSjq",
      "include_colab_link": true
    },
    "kernelspec": {
      "name": "python3",
      "display_name": "Python 3"
    },
    "language_info": {
      "name": "python"
    }
  },
  "cells": [
    {
      "cell_type": "markdown",
      "metadata": {
        "id": "view-in-github",
        "colab_type": "text"
      },
      "source": [
        "<a href=\"https://colab.research.google.com/github/MalfyAlshafin/AlHazen_Class/blob/main/OOP_Class_And_Objek.ipynb\" target=\"_parent\"><img src=\"https://colab.research.google.com/assets/colab-badge.svg\" alt=\"Open In Colab\"/></a>"
      ]
    },
    {
      "cell_type": "code",
      "execution_count": 1,
      "metadata": {
        "colab": {
          "base_uri": "https://localhost:8080/"
        },
        "id": "_Xbp42Bmer6B",
        "outputId": "0b5e64da-5209-4a6f-ac64-fe4c9bc209a4"
      },
      "outputs": [
        {
          "output_type": "stream",
          "name": "stdout",
          "text": [
            "Apel\n",
            "Merah\n"
          ]
        }
      ],
      "source": [
        "#blueprint buah, kita bisa masukin buah berdasarkan nama dan warna\n",
        "#mencetak hasil yang kita masukin tadi\n",
        "\n",
        "class fruit:\n",
        "  def __init__ (self, nama, warna):\n",
        "    self.nama = nama\n",
        "    self.warna = warna\n",
        "  def a (self):\n",
        "    return self.nama\n",
        "  def b (self):\n",
        "    return self.warna\n",
        "\n",
        "c = fruit(\"Apel\", \"Merah\")\n",
        "print(c.a())\n",
        "print(c.b())\n"
      ]
    },
    {
      "cell_type": "code",
      "source": [
        "class student:\n",
        "  def __init__ (self, Nama, Alamat, PhoneNumber):\n",
        "    self.Nama = Nama\n",
        "    self.Alamat = Alamat\n",
        "    self.PhoneNumber = PhoneNumber\n",
        "  def welcome (self):\n",
        "    print(\"Welcome to our school\")\n",
        "    print(\"Nama:\", self.Nama)\n",
        "    print(\"Alamat:\", self.Alamat)\n",
        "    print(\"PhoneNumber\", self.PhoneNumber)\n",
        "Nama = str(input(\"Silahkan masukkan NAMA \"))\n",
        "Alamat = str(input(\"Silahkan masukkan ALAMAT \"))\n",
        "PhoneNumber = str(input(\"Silahkan Masukkan PHONE NUMBER \"))\n",
        "a= student(Nama, Alamat, PhoneNumber)\n",
        "a.welcome()"
      ],
      "metadata": {
        "colab": {
          "base_uri": "https://localhost:8080/"
        },
        "id": "cp5NRpihkt_k",
        "outputId": "0db52e01-cd8a-4100-da23-3e69feaad366"
      },
      "execution_count": 9,
      "outputs": [
        {
          "output_type": "stream",
          "name": "stdout",
          "text": [
            "Silahkan masukkan NAMA Malfy\n",
            "Silahkan masukkan ALAMAT Bandung\n",
            "Silahkan Masukkan PHONE NUMBER 0811-949-270\n",
            "Welcome to our school\n",
            "Nama: Malfy\n",
            "Alamat: Bandung\n",
            "PhoneNumber 0811-949-270\n"
          ]
        }
      ]
    },
    {
      "cell_type": "code",
      "source": [
        "class student:\n",
        "  def __init__ (self, Nama, Alamat, PhoneNumber):\n",
        "    self.Nama = Nama\n",
        "    self.Alamat = Alamat\n",
        "    self.PhoneNumber = PhoneNumber\n",
        "  def welcome (self):\n",
        "    print(\"Welcome to our school\")\n",
        "    print(\"Nama\", self.Nama)\n",
        "    print(\"Alamat\", self.Alamat)\n",
        "    print(\"PhoneNumber\", self.PhoneNumber)\n",
        "Nama = str(input(\"Sliahkan masukkan NAMA \"))\n",
        "Alamat = str(input(\"Silahkan masukkan ALAMAT \"))\n",
        "PhoneNumber = str(input(\"Silahkan masukkan PHONRNUMBER \"))\n",
        "a= student(Nama, Alamat, PhoneNumber)\n",
        "a.welcome()"
      ],
      "metadata": {
        "colab": {
          "base_uri": "https://localhost:8080/"
        },
        "id": "m5xERIKHpYry",
        "outputId": "beb48d5d-4a51-47ce-a334-deb0e0784984"
      },
      "execution_count": 10,
      "outputs": [
        {
          "output_type": "stream",
          "name": "stdout",
          "text": [
            "Sliahkan masukkan NAMA Malfy\n",
            "Silahkan masukkan ALAMAT Bandung\n",
            "Silahkan masukkan PHONRNUMBER 0832-995-243\n",
            "Welcome to our school\n",
            "Nama Malfy\n",
            "Alamat Bandung\n",
            "PhoneNumber 0832-995-243\n"
          ]
        }
      ]
    },
    {
      "cell_type": "code",
      "source": [
        "class Hewan:\n",
        "  def __init__ (self, Nama, Warna):\n",
        "    self.Nama = Nama\n",
        "    self.Warna = Warna\n",
        "  def a(self):\n",
        "    return self.Nama\n",
        "  def b(self):\n",
        "    return self.Warna\n",
        "c = Hewan(\"Pisang\", \"Kuning\")\n",
        "c.a()\n",
        "c.b()"
      ],
      "metadata": {
        "colab": {
          "base_uri": "https://localhost:8080/",
          "height": 35
        },
        "id": "dhG7SjFqrisO",
        "outputId": "61f4b890-6cc5-4af5-b772-650b65dd08e5"
      },
      "execution_count": 16,
      "outputs": [
        {
          "output_type": "execute_result",
          "data": {
            "text/plain": [
              "'Kuning'"
            ],
            "application/vnd.google.colaboratory.intrinsic+json": {
              "type": "string"
            }
          },
          "metadata": {},
          "execution_count": 16
        }
      ]
    }
  ]
}