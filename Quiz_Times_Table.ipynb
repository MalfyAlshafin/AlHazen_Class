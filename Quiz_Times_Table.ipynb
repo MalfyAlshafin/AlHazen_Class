{
  "nbformat": 4,
  "nbformat_minor": 0,
  "metadata": {
    "colab": {
      "provenance": [],
      "authorship_tag": "ABX9TyN7sDGx9/xIpmNodmqaoCp7",
      "include_colab_link": true
    },
    "kernelspec": {
      "name": "python3",
      "display_name": "Python 3"
    },
    "language_info": {
      "name": "python"
    }
  },
  "cells": [
    {
      "cell_type": "markdown",
      "metadata": {
        "id": "view-in-github",
        "colab_type": "text"
      },
      "source": [
        "<a href=\"https://colab.research.google.com/github/MalfyAlshafin/AlHazen_Class/blob/main/Quiz_Times_Table.ipynb\" target=\"_parent\"><img src=\"https://colab.research.google.com/assets/colab-badge.svg\" alt=\"Open In Colab\"/></a>"
      ]
    },
    {
      "cell_type": "code",
      "execution_count": 7,
      "metadata": {
        "colab": {
          "base_uri": "https://localhost:8080/"
        },
        "id": "DnkJtCV_cfMx",
        "outputId": "51da6653-c607-4b7b-ef04-d4dcaca673ef"
      },
      "outputs": [
        {
          "output_type": "stream",
          "name": "stdout",
          "text": [
            "Silahkan masukkan angka\n",
            "15\n",
            "15 x 1 = 15\n",
            "15 x 2 = 30\n",
            "15 x 3 = 45\n",
            "15 x 4 = 60\n",
            "15 x 5 = 75\n",
            "15 x 6 = 90\n",
            "15 x 7 = 105\n",
            "15 x 8 = 120\n",
            "15 x 9 = 135\n",
            "15 x 10 = 150\n",
            "15 x 11 = 165\n",
            "15 x 12 = 180\n",
            "15 x 13 = 195\n",
            "15 x 14 = 210\n",
            "15 x 15 = 225\n",
            "15 x 16 = 240\n"
          ]
        }
      ],
      "source": [
        "#TIMESTABLE\n",
        "print(\"Silahkan masukkan angka\")\n",
        "num = int(input())\n",
        "i=0\n",
        "while i<=num:\n",
        "  i=i+1 \n",
        "  print(num, \"x\", i, '=', num *i)"
      ]
    }
  ]
}