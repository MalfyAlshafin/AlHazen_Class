{
  "nbformat": 4,
  "nbformat_minor": 0,
  "metadata": {
    "colab": {
      "provenance": [],
      "authorship_tag": "ABX9TyOAAWMwDNrTTmyYCFAuhNqv",
      "include_colab_link": true
    },
    "kernelspec": {
      "name": "python3",
      "display_name": "Python 3"
    },
    "language_info": {
      "name": "python"
    }
  },
  "cells": [
    {
      "cell_type": "markdown",
      "metadata": {
        "id": "view-in-github",
        "colab_type": "text"
      },
      "source": [
        "<a href=\"https://colab.research.google.com/github/MalfyAlshafin/AlHazen_Class/blob/main/Ujian_Malfy.ipynb\" target=\"_parent\"><img src=\"https://colab.research.google.com/assets/colab-badge.svg\" alt=\"Open In Colab\"/></a>"
      ]
    },
    {
      "cell_type": "code",
      "execution_count": 3,
      "metadata": {
        "colab": {
          "base_uri": "https://localhost:8080/"
        },
        "id": "-16zd_X-jauD",
        "outputId": "11a7f8c8-abf4-42ad-c777-a029f919bf91"
      },
      "outputs": [
        {
          "output_type": "stream",
          "name": "stdout",
          "text": [
            "51\n"
          ]
        }
      ],
      "source": [
        "a=\"110011\"\n",
        "b=int(a, 2)\n",
        "print(b)"
      ]
    },
    {
      "cell_type": "code",
      "source": [
        "a=\"00011011\"\n",
        "b=int(a, 2)\n",
        "print(b)"
      ],
      "metadata": {
        "colab": {
          "base_uri": "https://localhost:8080/"
        },
        "id": "gwdICJQclkKK",
        "outputId": "db6ecfbc-153d-4ce9-8c47-72a24f42d934"
      },
      "execution_count": 4,
      "outputs": [
        {
          "output_type": "stream",
          "name": "stdout",
          "text": [
            "27\n"
          ]
        }
      ]
    },
    {
      "cell_type": "code",
      "source": [
        "a=\"00100110\"\n",
        "b=int(a, 2)\n",
        "print(b)"
      ],
      "metadata": {
        "colab": {
          "base_uri": "https://localhost:8080/"
        },
        "id": "JN560yMmlti0",
        "outputId": "a6b149b0-cbac-4252-9913-fe284ec82d71"
      },
      "execution_count": 5,
      "outputs": [
        {
          "output_type": "stream",
          "name": "stdout",
          "text": [
            "38\n"
          ]
        }
      ]
    },
    {
      "cell_type": "code",
      "source": [
        "a=\"00001001\"\n",
        "b=int(a, 2)\n",
        "print(b)"
      ],
      "metadata": {
        "colab": {
          "base_uri": "https://localhost:8080/"
        },
        "id": "mKxkUPG6l0jN",
        "outputId": "baf46ffe-fc3f-45e3-984d-8736ab638f0e"
      },
      "execution_count": 6,
      "outputs": [
        {
          "output_type": "stream",
          "name": "stdout",
          "text": [
            "9\n"
          ]
        }
      ]
    },
    {
      "cell_type": "code",
      "source": [
        "a= ['ikan', 'ayam', 'tempe']\n",
        "print(a[1])\n",
        "b= ['teh', 'kopi', 'susu']\n",
        "print(b[0])\n",
        "c= ['panda', 'harimau', 'gajah']\n",
        "print(c[2])\n",
        "d= ['pisang', 'mangga', 'apel']\n",
        "print(d[0:2])"
      ],
      "metadata": {
        "colab": {
          "base_uri": "https://localhost:8080/"
        },
        "id": "FUtRvRD0mLp8",
        "outputId": "f4a5f8a7-5392-4402-d870-878245cd6196"
      },
      "execution_count": 19,
      "outputs": [
        {
          "output_type": "stream",
          "name": "stdout",
          "text": [
            "ayam\n",
            "teh\n",
            "gajah\n",
            "['pisang', 'mangga']\n"
          ]
        }
      ]
    },
    {
      "cell_type": "code",
      "source": [
        "a= {\n",
        "'b' : [2, 3, 4, 5, 6, 7, 8],\n",
        "'c' : [3, 4, 5, 6, 7, 8, 9, 10]\n",
        "}\n",
        "d=0\n",
        "e=0\n",
        "for sum in a['b']:\n",
        "  d=sum+d\n",
        "print(\"Hasil dari b adalah\", d)\n",
        "for sum in a['c']:\n",
        "  e=sum+e\n",
        "print(\"Hasil dari c adalah\", e)"
      ],
      "metadata": {
        "colab": {
          "base_uri": "https://localhost:8080/"
        },
        "id": "eLSdf8CKpE0j",
        "outputId": "e6c03e82-0972-42a0-cbc0-fd6abfb30cae"
      },
      "execution_count": 32,
      "outputs": [
        {
          "output_type": "stream",
          "name": "stdout",
          "text": [
            "Hasil dari b adalah 35\n",
            "Hasil dari c adalah 52\n"
          ]
        }
      ]
    },
    {
      "cell_type": "code",
      "source": [
        "a = [3, 4, 5, 6, 7, 8, 9, 10]\n",
        "b=0\n",
        "for i in a:\n",
        "  b=b+i\n",
        "print(\"Nilai dari c adalah\", b)\n",
        "c= len(a)\n",
        "d=b/c\n",
        "print(\"Rata rata dari a adalah\", d)"
      ],
      "metadata": {
        "colab": {
          "base_uri": "https://localhost:8080/"
        },
        "id": "-Ck1p8NBqbvj",
        "outputId": "33f653dc-5e36-4dfc-a8fa-29099cd3ec71"
      },
      "execution_count": 29,
      "outputs": [
        {
          "output_type": "stream",
          "name": "stdout",
          "text": [
            "Nilai dari c adalah 52\n",
            "Rata rata dari a adalah 6.5\n"
          ]
        }
      ]
    },
    {
      "cell_type": "code",
      "source": [
        "a = [2, 3, 4, 5, 6, 7, 8]\n",
        "b=0\n",
        "for i in a:\n",
        "  b=b+i\n",
        "print(\"Nilai dari a adalah\", b)\n",
        "c= len(a)\n",
        "d=b/c\n",
        "print('Rata rata dari a adalah', d)"
      ],
      "metadata": {
        "colab": {
          "base_uri": "https://localhost:8080/"
        },
        "id": "8o5QuSm6puiT",
        "outputId": "2c9f9321-c55f-4c71-ef44-aca9af8fc829"
      },
      "execution_count": 28,
      "outputs": [
        {
          "output_type": "stream",
          "name": "stdout",
          "text": [
            "Nilai dari a adalah 35\n",
            "Rata rata dari a adalah 5.0\n"
          ]
        }
      ]
    },
    {
      "cell_type": "code",
      "source": [
        "print(\"Silahkan masukkan angka\")\n",
        "a = int(input())\n",
        "b=0\n",
        "while b<=a:\n",
        "  b+=1;\n",
        "  print(a, 'x', b, '=', a*b)"
      ],
      "metadata": {
        "colab": {
          "base_uri": "https://localhost:8080/"
        },
        "id": "GFzV-K2YtPk5",
        "outputId": "c4d9e19c-c3fa-4ddd-e06f-ae46cb8ac3fb"
      },
      "execution_count": 8,
      "outputs": [
        {
          "output_type": "stream",
          "name": "stdout",
          "text": [
            "Silahkan masukkan angka\n",
            "10\n",
            "10 x 1 = 10\n",
            "10 x 2 = 20\n",
            "10 x 3 = 30\n",
            "10 x 4 = 40\n",
            "10 x 5 = 50\n",
            "10 x 6 = 60\n",
            "10 x 7 = 70\n",
            "10 x 8 = 80\n",
            "10 x 9 = 90\n",
            "10 x 10 = 100\n",
            "10 x 11 = 110\n"
          ]
        }
      ]
    }
  ]
}