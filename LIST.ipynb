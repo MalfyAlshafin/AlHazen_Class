{
  "nbformat": 4,
  "nbformat_minor": 0,
  "metadata": {
    "colab": {
      "provenance": [],
      "authorship_tag": "ABX9TyPWrv9FXs5hLsLVF3EOPqls",
      "include_colab_link": true
    },
    "kernelspec": {
      "name": "python3",
      "display_name": "Python 3"
    },
    "language_info": {
      "name": "python"
    }
  },
  "cells": [
    {
      "cell_type": "markdown",
      "metadata": {
        "id": "view-in-github",
        "colab_type": "text"
      },
      "source": [
        "<a href=\"https://colab.research.google.com/github/MalfyAlshafin/AlHazen_Class/blob/main/LIST.ipynb\" target=\"_parent\"><img src=\"https://colab.research.google.com/assets/colab-badge.svg\" alt=\"Open In Colab\"/></a>"
      ]
    },
    {
      "cell_type": "code",
      "execution_count": 2,
      "metadata": {
        "colab": {
          "base_uri": "https://localhost:8080/"
        },
        "id": "G6x_mUl83p3s",
        "outputId": "9767bfd7-2609-49e6-ae57-46a7f31535a4"
      },
      "outputs": [
        {
          "output_type": "stream",
          "name": "stdout",
          "text": [
            "['bola', 'badminton', 'basket']\n",
            "3\n"
          ]
        }
      ],
      "source": [
        "olahraga = [\"bola\", \"badminton\", \"basket\"]\n",
        "print(olahraga)\n",
        "print(len(olahraga))"
      ]
    },
    {
      "cell_type": "code",
      "source": [
        "olahraga = [\"bola\", \"badminton\", \"basket\"]\n",
        "print(type(olahraga))"
      ],
      "metadata": {
        "colab": {
          "base_uri": "https://localhost:8080/"
        },
        "id": "UGw_8kWr77dm",
        "outputId": "217617a8-8012-4640-c10b-5a189407f4a8"
      },
      "execution_count": 3,
      "outputs": [
        {
          "output_type": "stream",
          "name": "stdout",
          "text": [
            "<class 'list'>\n"
          ]
        }
      ]
    },
    {
      "cell_type": "code",
      "source": [
        "olahraga = [\"bola\", \"badminton\", \"basket\"]\n",
        "print(olahraga[2])"
      ],
      "metadata": {
        "colab": {
          "base_uri": "https://localhost:8080/"
        },
        "id": "wTw7JPfu8L9u",
        "outputId": "e6d42b6a-3bc2-4fae-9998-14f35a2d86f3"
      },
      "execution_count": 5,
      "outputs": [
        {
          "output_type": "stream",
          "name": "stdout",
          "text": [
            "basket\n"
          ]
        }
      ]
    },
    {
      "cell_type": "code",
      "source": [
        "angka = [1, 2, 3, 4, 5, 6, 7, 8, 9, 10, 11, 12, 13, 14, 15]\n",
        "print(angka[:5])\n",
        "print(angka[2:7])\n",
        "print(angka[3:5])\n",
        "print(angka[7:])"
      ],
      "metadata": {
        "colab": {
          "base_uri": "https://localhost:8080/"
        },
        "id": "jZ0zg75D8lVV",
        "outputId": "81250bb9-3044-4301-a560-bd7fed5edf08"
      },
      "execution_count": 12,
      "outputs": [
        {
          "output_type": "stream",
          "name": "stdout",
          "text": [
            "[1, 2, 3, 4, 5]\n",
            "[3, 4, 5, 6, 7]\n",
            "[4, 5]\n",
            "[8, 9, 10, 11, 12, 13, 14, 15]\n"
          ]
        }
      ]
    },
    {
      "cell_type": "code",
      "source": [
        "Login = [\"Malfy\", 13, \"Jakarta\", 821, \"login succes\", \"login falid\"]\n",
        "name = str(input(\"what is your name?\"))\n",
        "age = int(input(\"what is your age?\"))\n",
        "place = str(input(\"where do you live?\"))\n",
        "phone_number = int(input(\"wht is you phone number?\"))\n",
        "robot = int(input(\"5 + 5\"))\n",
        "if name == Login[0] and age == Login[1] and place == Login[2] and phone_number == Login[3] and robot ==10 :\n",
        "  print(Login[4])\n",
        "else:\n",
        "  print(Login[5])"
      ],
      "metadata": {
        "colab": {
          "base_uri": "https://localhost:8080/"
        },
        "id": "HSl8_S7c-7QG",
        "outputId": "8b717527-39cf-421d-a0a8-86cc94aa2c8b"
      },
      "execution_count": 18,
      "outputs": [
        {
          "output_type": "stream",
          "name": "stdout",
          "text": [
            "what is your name?Malfy\n",
            "what is your age?1\n",
            "where do you live?indonesia\n",
            "wht is you phone number?0876\n",
            "5 + 51\n",
            "login falid\n"
          ]
        }
      ]
    },
    {
      "cell_type": "code",
      "source": [
        "dict1 = {\n",
        "    \"brand\":\"honda\",\n",
        "    \"tahun\":2022,\n",
        "    \"model\":\"HRV\",\n",
        "}\n",
        "print(dict1)\n",
        "dict1[\"saingan\"]=\"yamaha\"\n",
        "print(dict1)"
      ],
      "metadata": {
        "colab": {
          "base_uri": "https://localhost:8080/"
        },
        "id": "m0CJ76RRFxgA",
        "outputId": "64d63781-9cbd-44e2-dbe4-d73159759d79"
      },
      "execution_count": 3,
      "outputs": [
        {
          "output_type": "stream",
          "name": "stdout",
          "text": [
            "{'brand': 'honda', 'tahun': 2022, 'model': 'HRV'}\n",
            "{'brand': 'honda', 'tahun': 2022, 'model': 'HRV', 'saingan': 'yamaha'}\n"
          ]
        }
      ]
    }
  ]
}