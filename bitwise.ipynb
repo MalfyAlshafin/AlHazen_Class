{
  "nbformat": 4,
  "nbformat_minor": 0,
  "metadata": {
    "colab": {
      "provenance": [],
      "authorship_tag": "ABX9TyNKFbVxY+p7uXhHV9cGwyZ0",
      "include_colab_link": true
    },
    "kernelspec": {
      "name": "python3",
      "display_name": "Python 3"
    },
    "language_info": {
      "name": "python"
    }
  },
  "cells": [
    {
      "cell_type": "markdown",
      "metadata": {
        "id": "view-in-github",
        "colab_type": "text"
      },
      "source": [
        "<a href=\"https://colab.research.google.com/github/MalfyAlshafin/AlHazen_Class/blob/main/bitwise.ipynb\" target=\"_parent\"><img src=\"https://colab.research.google.com/assets/colab-badge.svg\" alt=\"Open In Colab\"/></a>"
      ]
    },
    {
      "cell_type": "code",
      "execution_count": 1,
      "metadata": {
        "colab": {
          "base_uri": "https://localhost:8080/"
        },
        "id": "4LbPuRLE2EZ9",
        "outputId": "10a6caac-ba26-4874-d7f9-a20d0850a015"
      },
      "outputs": [
        {
          "output_type": "stream",
          "name": "stdout",
          "text": [
            "a&b 2\n"
          ]
        }
      ],
      "source": [
        "a =7\n",
        "b =10\n",
        "print(\"a&b=\",a&b)"
      ]
    },
    {
      "cell_type": "code",
      "source": [
        "a =5\n",
        "b =5\n",
        "print(\"a&b=\",a&b)"
      ],
      "metadata": {
        "colab": {
          "base_uri": "https://localhost:8080/"
        },
        "id": "tNcoM0kn5gY5",
        "outputId": "47943b1d-6179-4c54-997a-13279ad2c897"
      },
      "execution_count": 2,
      "outputs": [
        {
          "output_type": "stream",
          "name": "stdout",
          "text": [
            "a&b= 5\n"
          ]
        }
      ]
    },
    {
      "cell_type": "code",
      "source": [
        "a =7\n",
        "b =10\n",
        "print(\"a|b=\",a|b)"
      ],
      "metadata": {
        "colab": {
          "base_uri": "https://localhost:8080/"
        },
        "id": "icIWsuAB53vQ",
        "outputId": "6c0c26ce-66ba-45e6-b749-921a0940b518"
      },
      "execution_count": 3,
      "outputs": [
        {
          "output_type": "stream",
          "name": "stdout",
          "text": [
            "a|b= 15\n"
          ]
        }
      ]
    }
  ]
}