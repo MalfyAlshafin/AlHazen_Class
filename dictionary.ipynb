{
  "nbformat": 4,
  "nbformat_minor": 0,
  "metadata": {
    "colab": {
      "provenance": [],
      "authorship_tag": "ABX9TyPGTgjsGTsEUT1kVIVE8A4Q",
      "include_colab_link": true
    },
    "kernelspec": {
      "name": "python3",
      "display_name": "Python 3"
    },
    "language_info": {
      "name": "python"
    }
  },
  "cells": [
    {
      "cell_type": "markdown",
      "metadata": {
        "id": "view-in-github",
        "colab_type": "text"
      },
      "source": [
        "<a href=\"https://colab.research.google.com/github/MalfyAlshafin/AlHazen_Class/blob/main/dictionary.ipynb\" target=\"_parent\"><img src=\"https://colab.research.google.com/assets/colab-badge.svg\" alt=\"Open In Colab\"/></a>"
      ]
    },
    {
      "cell_type": "code",
      "execution_count": 12,
      "metadata": {
        "colab": {
          "base_uri": "https://localhost:8080/"
        },
        "id": "bUK6-qz5oYt-",
        "outputId": "00ad5ea1-a41d-429e-f718-fd18365e3b72"
      },
      "outputs": [
        {
          "output_type": "stream",
          "name": "stdout",
          "text": [
            "{'Nama club': 'Manchaster City', 'nama pemain': 'Erling Haaland Kevin De Bruyne', 'Kewarga Negaraan': 'Norwegian Belgian'}\n",
            "{'Nama club': 'Manchaster City', 'nama pemain': 'Erling Haaland Kevin De Bruyne', 'Kewarga Negaraan': 'Norwegian Belgian', 'Nomor Punggung': 9}\n",
            "dict_keys(['Nama club', 'nama pemain', 'Kewarga Negaraan', 'Nomor Punggung'])\n",
            "dict_values(['Manchaster City', 'Erling Haaland Kevin De Bruyne', 'Norwegian Belgian', 9])\n"
          ]
        }
      ],
      "source": [
        " a={\n",
        "     \"Nama club\":\"Manchaster City\",\n",
        "     \"nama pemain\":\"Erling Haaland \"\"Kevin De Bruyne\",\n",
        "     \"Kewarga Negaraan\":\"Norwegian \"\"Belgian\",\n",
        " }\n",
        " print(a)\n",
        " a[\"Nomor Punggung\"]=9\n",
        " print(a)\n",
        " b=a.keys()\n",
        " print(b)\n",
        " c=a.values()\n",
        " print(c)"
      ]
    },
    {
      "cell_type": "code",
      "source": [
        "a={\n",
        "    \"Nama siswa\":\"Budi\",\n",
        "    \"Umur\":\"12\",\n",
        "    \"Alamat\":\"Solo\"\n",
        "}\n",
        "print(a)\n",
        "a[\"Kelahiran\"]=\"bandung\"\n",
        "print(a)\n",
        "b=a.keys()\n",
        "print(b)\n",
        "c=a.values()\n",
        "print(c)"
      ],
      "metadata": {
        "colab": {
          "base_uri": "https://localhost:8080/"
        },
        "id": "Rf6ed1wIrMyh",
        "outputId": "1498c626-292b-4fd0-c98e-45225aed5920"
      },
      "execution_count": 14,
      "outputs": [
        {
          "output_type": "stream",
          "name": "stdout",
          "text": [
            "{'Nama siswa': 'Budi', 'Umur': '12', 'Alamat': 'Solo'}\n",
            "{'Nama siswa': 'Budi', 'Umur': '12', 'Alamat': 'Solo', 'Kelahiran': 'bandung'}\n",
            "dict_keys(['Nama siswa', 'Umur', 'Alamat', 'Kelahiran'])\n",
            "dict_values(['Budi', '12', 'Solo', 'bandung'])\n"
          ]
        }
      ]
    },
    {
      "cell_type": "code",
      "source": [
        " a={\n",
        "     \"Nama club\":\"Manchaster City\",\n",
        "     \"nama pemain\":\"Erling Haaland \"\"Kevin De Bruyne\",\n",
        "     \"Kewarga Negaraan\":\"Norwegian \"\"Belgian\",\n",
        " }\n",
        " b=a.copy()\n",
        " print(a)\n",
        " b[\"nama pemain\"]=\"Phil Foden\"\n",
        " print(b)\n",
        " b.clear()\n",
        " print(b)"
      ],
      "metadata": {
        "colab": {
          "base_uri": "https://localhost:8080/"
        },
        "id": "NZB4iJoYuBDl",
        "outputId": "f6dd3919-37cd-428e-a9d6-340fd4f27ae7"
      },
      "execution_count": 16,
      "outputs": [
        {
          "output_type": "stream",
          "name": "stdout",
          "text": [
            "{'Nama club': 'Manchaster City', 'nama pemain': 'Erling Haaland Kevin De Bruyne', 'Kewarga Negaraan': 'Norwegian Belgian'}\n",
            "{'Nama club': 'Manchaster City', 'nama pemain': 'Phil Foden', 'Kewarga Negaraan': 'Norwegian Belgian'}\n",
            "{}\n"
          ]
        }
      ]
    }
  ]
}