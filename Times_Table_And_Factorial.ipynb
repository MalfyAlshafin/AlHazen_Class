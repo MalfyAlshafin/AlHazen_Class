{
  "nbformat": 4,
  "nbformat_minor": 0,
  "metadata": {
    "colab": {
      "provenance": [],
      "authorship_tag": "ABX9TyOx6Z/M4ycZ3KnKmHW52hAK",
      "include_colab_link": true
    },
    "kernelspec": {
      "name": "python3",
      "display_name": "Python 3"
    },
    "language_info": {
      "name": "python"
    }
  },
  "cells": [
    {
      "cell_type": "markdown",
      "metadata": {
        "id": "view-in-github",
        "colab_type": "text"
      },
      "source": [
        "<a href=\"https://colab.research.google.com/github/MalfyAlshafin/AlHazen_Class/blob/main/Times_Table_And_Factorial.ipynb\" target=\"_parent\"><img src=\"https://colab.research.google.com/assets/colab-badge.svg\" alt=\"Open In Colab\"/></a>"
      ]
    },
    {
      "cell_type": "code",
      "execution_count": 1,
      "metadata": {
        "colab": {
          "base_uri": "https://localhost:8080/"
        },
        "id": "vOWPmEoc1j-9",
        "outputId": "113837f6-7709-4eac-c81e-e426bcdde03a"
      },
      "outputs": [
        {
          "output_type": "stream",
          "name": "stdout",
          "text": [
            "input your number\n",
            "2\n",
            "The factorial of 2 is 2\n"
          ]
        }
      ],
      "source": [
        "print(\"input your number\")\n",
        "num=int(input())\n",
        "fac=1\n",
        "i=1\n",
        "while i <= num:\n",
        "  fac = fac *i\n",
        "  i = i+1\n",
        "print(\"The factorial of\", num, \"is\", fac)"
      ]
    },
    {
      "cell_type": "code",
      "source": [
        "print(\"Innput your number\")\n",
        "num=int(input())\n",
        "i=0\n",
        "while i <=num:\n",
        "  i=i+1\n",
        "  print(num, \"x\", i, \"=\", num *i)"
      ],
      "metadata": {
        "colab": {
          "base_uri": "https://localhost:8080/"
        },
        "id": "BvlA4cM46Oy5",
        "outputId": "d93f07ff-4bc3-4457-8c47-41fdf3ec6a57"
      },
      "execution_count": 8,
      "outputs": [
        {
          "output_type": "stream",
          "name": "stdout",
          "text": [
            "Innput your number\n",
            "10\n",
            "10 x 1 = 10\n",
            "10 x 2 = 20\n",
            "10 x 3 = 30\n",
            "10 x 4 = 40\n",
            "10 x 5 = 50\n",
            "10 x 6 = 60\n",
            "10 x 7 = 70\n",
            "10 x 8 = 80\n",
            "10 x 9 = 90\n",
            "10 x 10 = 100\n",
            "10 x 11 = 110\n"
          ]
        }
      ]
    },
    {
      "cell_type": "code",
      "source": [
        "print(\"Innput your number\")\n",
        "num=int(input())\n",
        "for i in range(1, 11):\n",
        "  print(num, \"x\", i, \"=\", num *i)"
      ],
      "metadata": {
        "colab": {
          "base_uri": "https://localhost:8080/"
        },
        "id": "GIEgmLUK9AJR",
        "outputId": "057e34e8-8eb0-4931-e784-d06d27c4d4da"
      },
      "execution_count": 10,
      "outputs": [
        {
          "output_type": "stream",
          "name": "stdout",
          "text": [
            "Innput your number\n",
            "10\n",
            "10 x 1 = 10\n",
            "10 x 2 = 20\n",
            "10 x 3 = 30\n",
            "10 x 4 = 40\n",
            "10 x 5 = 50\n",
            "10 x 6 = 60\n",
            "10 x 7 = 70\n",
            "10 x 8 = 80\n",
            "10 x 9 = 90\n",
            "10 x 10 = 100\n"
          ]
        }
      ]
    }
  ]
}