{
  "nbformat": 4,
  "nbformat_minor": 0,
  "metadata": {
    "colab": {
      "provenance": [],
      "authorship_tag": "ABX9TyNKNdFErpuzQzrChMBa5fF2",
      "include_colab_link": true
    },
    "kernelspec": {
      "name": "python3",
      "display_name": "Python 3"
    },
    "language_info": {
      "name": "python"
    }
  },
  "cells": [
    {
      "cell_type": "markdown",
      "metadata": {
        "id": "view-in-github",
        "colab_type": "text"
      },
      "source": [
        "<a href=\"https://colab.research.google.com/github/MalfyAlshafin/AlHazen_Class/blob/main/indexing_and_slicing.ipynb\" target=\"_parent\"><img src=\"https://colab.research.google.com/assets/colab-badge.svg\" alt=\"Open In Colab\"/></a>"
      ]
    },
    {
      "cell_type": "code",
      "execution_count": 5,
      "metadata": {
        "colab": {
          "base_uri": "https://localhost:8080/"
        },
        "id": "19HslanVcTsM",
        "outputId": "a4ae478f-26c5-4e7a-f213-70fc7bc538a0"
      },
      "outputs": [
        {
          "output_type": "execute_result",
          "data": {
            "text/plain": [
              "40"
            ]
          },
          "metadata": {},
          "execution_count": 5
        }
      ],
      "source": [
        "a=[10,20,30,40,50,60,70,80,90,100]\n",
        "a[6]\n",
        "a[-1]\n",
        "a[3]"
      ]
    },
    {
      "cell_type": "code",
      "source": [
        "a=[10,20,30,40,50,60,70,80,90,100]\n",
        "a[1:8:2]"
      ],
      "metadata": {
        "colab": {
          "base_uri": "https://localhost:8080/"
        },
        "id": "G1M0CfTbg8Uc",
        "outputId": "02101d28-8ac2-430b-8444-33c55ef9c8ef"
      },
      "execution_count": 6,
      "outputs": [
        {
          "output_type": "execute_result",
          "data": {
            "text/plain": [
              "[20, 40, 60, 80]"
            ]
          },
          "metadata": {},
          "execution_count": 6
        }
      ]
    },
    {
      "cell_type": "markdown",
      "source": [],
      "metadata": {
        "id": "Vh9S1dPniwqD"
      }
    },
    {
      "cell_type": "code",
      "source": [
        "a=[10,20,30,40,50,60,70,80,90,100]\n",
        "a[-1:-8:-1]"
      ],
      "metadata": {
        "colab": {
          "base_uri": "https://localhost:8080/"
        },
        "id": "b6qX--HEhw8m",
        "outputId": "6601da4a-92c2-47c2-ada1-3a822fd7c1cf"
      },
      "execution_count": 10,
      "outputs": [
        {
          "output_type": "execute_result",
          "data": {
            "text/plain": [
              "[100, 90, 80, 70, 60, 50, 40]"
            ]
          },
          "metadata": {},
          "execution_count": 10
        }
      ]
    },
    {
      "cell_type": "code",
      "source": [
        "a=[10,20,30,40,50,60,70,80,90,100]\n",
        "a[-1:-10:-2]"
      ],
      "metadata": {
        "colab": {
          "base_uri": "https://localhost:8080/"
        },
        "id": "QsmxSWJiiqRj",
        "outputId": "7b91930c-3264-4ff3-bae0-519f5cca3339"
      },
      "execution_count": 13,
      "outputs": [
        {
          "output_type": "execute_result",
          "data": {
            "text/plain": [
              "[100, 80, 60, 40, 20]"
            ]
          },
          "metadata": {},
          "execution_count": 13
        }
      ]
    },
    {
      "cell_type": "code",
      "source": [
        "a=[10,20,30,40,50,60,70,80,90,100]\n",
        "a[-1:-11:-3]"
      ],
      "metadata": {
        "colab": {
          "base_uri": "https://localhost:8080/"
        },
        "id": "6uont_LcjVFo",
        "outputId": "f45aa985-ae84-4a7a-9db2-7c9ca0f92151"
      },
      "execution_count": 14,
      "outputs": [
        {
          "output_type": "execute_result",
          "data": {
            "text/plain": [
              "[100, 70, 40, 10]"
            ]
          },
          "metadata": {},
          "execution_count": 14
        }
      ]
    },
    {
      "cell_type": "code",
      "source": [
        "a=[\"apel\",\"melon\",\"jambu\",\"nanas\",\"durian\",\"pisang\"]\n",
        "a[0:5:4]"
      ],
      "metadata": {
        "colab": {
          "base_uri": "https://localhost:8080/"
        },
        "id": "JbKJEGcuj2FY",
        "outputId": "56620394-3d36-4d8f-d012-fa9d7c9e1701"
      },
      "execution_count": 15,
      "outputs": [
        {
          "output_type": "execute_result",
          "data": {
            "text/plain": [
              "['apel', 'durian']"
            ]
          },
          "metadata": {},
          "execution_count": 15
        }
      ]
    },
    {
      "cell_type": "code",
      "source": [
        "a=[\"apel\",\"melon\",\"jambu\",\"nanas\",\"durian\",\"pisang\"]\n",
        "a[1:5:3]\n",
        "a[-1]\n",
        "a[-3]"
      ],
      "metadata": {
        "colab": {
          "base_uri": "https://localhost:8080/",
          "height": 35
        },
        "id": "-kJ3h7WBkrYn",
        "outputId": "e7c1d7c2-3fef-4cb4-9722-18c8e00c86ca"
      },
      "execution_count": 19,
      "outputs": [
        {
          "output_type": "execute_result",
          "data": {
            "text/plain": [
              "'nanas'"
            ],
            "application/vnd.google.colaboratory.intrinsic+json": {
              "type": "string"
            }
          },
          "metadata": {},
          "execution_count": 19
        }
      ]
    },
    {
      "cell_type": "code",
      "source": [
        "a=[\"apel\",\"melon\",\"jambu\",\"nanas\",\"durian\",\"pisang\"]\n",
        "a[0:5:2]\n",
        "a[-1:-6:-2]"
      ],
      "metadata": {
        "colab": {
          "base_uri": "https://localhost:8080/"
        },
        "id": "CUfeVjQWlNCF",
        "outputId": "71e9d0e1-823d-429e-a704-b566f35f3e85"
      },
      "execution_count": 24,
      "outputs": [
        {
          "output_type": "execute_result",
          "data": {
            "text/plain": [
              "['pisang', 'nanas', 'melon']"
            ]
          },
          "metadata": {},
          "execution_count": 24
        }
      ]
    }
  ]
}