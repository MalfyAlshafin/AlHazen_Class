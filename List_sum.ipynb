{
  "nbformat": 4,
  "nbformat_minor": 0,
  "metadata": {
    "colab": {
      "provenance": [],
      "authorship_tag": "ABX9TyMdm22W0XhC60RF8TJCmNPR",
      "include_colab_link": true
    },
    "kernelspec": {
      "name": "python3",
      "display_name": "Python 3"
    },
    "language_info": {
      "name": "python"
    }
  },
  "cells": [
    {
      "cell_type": "markdown",
      "metadata": {
        "id": "view-in-github",
        "colab_type": "text"
      },
      "source": [
        "<a href=\"https://colab.research.google.com/github/MalfyAlshafin/AlHazen_Class/blob/main/List_sum.ipynb\" target=\"_parent\"><img src=\"https://colab.research.google.com/assets/colab-badge.svg\" alt=\"Open In Colab\"/></a>"
      ]
    },
    {
      "cell_type": "code",
      "execution_count": 2,
      "metadata": {
        "colab": {
          "base_uri": "https://localhost:8080/"
        },
        "id": "GPgsNNSOKcWo",
        "outputId": "516cc166-a53a-4bec-f5c7-dd2ac368f25f"
      },
      "outputs": [
        {
          "output_type": "stream",
          "name": "stdout",
          "text": [
            "The result is 54\n"
          ]
        }
      ],
      "source": [
        "number= [2, 3, 4, 5, 6, 7, 8, 9, 10]\n",
        "a=0\n",
        "for sum in number:\n",
        "  a=a+sum \n",
        "print(\"The result is\", a)"
      ]
    },
    {
      "cell_type": "code",
      "source": [
        "number= [4, 5, 6, 7, 8, 9, 10, 11, 12]\n",
        "b=0\n",
        "for sum in number:\n",
        "  b=b+sum\n",
        "print(\"The result is \", b)"
      ],
      "metadata": {
        "colab": {
          "base_uri": "https://localhost:8080/"
        },
        "id": "qck8rRAaMgN0",
        "outputId": "1fa32943-40e5-4773-a924-0f6448ec3a62"
      },
      "execution_count": 3,
      "outputs": [
        {
          "output_type": "stream",
          "name": "stdout",
          "text": [
            "The result is  72\n"
          ]
        }
      ]
    },
    {
      "cell_type": "code",
      "source": [
        "number= [2, 3, 4, 5, 6, 7, 8, 9, 10]\n",
        "a=len(number)\n",
        "print(a)\n",
        "b=0\n",
        "for sum in number:\n",
        "  b=b+sum\n",
        "print(b)\n",
        "c=b/a\n",
        "print(c)"
      ],
      "metadata": {
        "colab": {
          "base_uri": "https://localhost:8080/"
        },
        "id": "ggwFhiq7O2Ej",
        "outputId": "4d2e8f72-ffb6-44b1-bb6d-aca9f7657215"
      },
      "execution_count": 19,
      "outputs": [
        {
          "output_type": "stream",
          "name": "stdout",
          "text": [
            "9\n",
            "54\n",
            "6.0\n"
          ]
        }
      ]
    },
    {
      "cell_type": "code",
      "source": [
        "number= [4, 5, 6, 7, 8, 9, 10, 11, 12, 13, 14, 15, 16, 17, 18, 19]\n",
        "a=len(number)\n",
        "print(a)\n",
        "b=0\n",
        "for sum in number:\n",
        "  b=b+sum\n",
        "print(b)\n",
        "c=b/a\n",
        "print(c)"
      ],
      "metadata": {
        "colab": {
          "base_uri": "https://localhost:8080/"
        },
        "id": "BMHMuB1zPNSf",
        "outputId": "f677b3a7-882c-4c4a-eb52-eee30cd469fc"
      },
      "execution_count": 17,
      "outputs": [
        {
          "output_type": "stream",
          "name": "stdout",
          "text": [
            "16\n",
            "184\n",
            "11.5\n"
          ]
        }
      ]
    }
  ]
}