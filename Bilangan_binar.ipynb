{
  "nbformat": 4,
  "nbformat_minor": 0,
  "metadata": {
    "colab": {
      "provenance": [],
      "authorship_tag": "ABX9TyP7oKKM4uPSyJLH0swaWBHL",
      "include_colab_link": true
    },
    "kernelspec": {
      "name": "python3",
      "display_name": "Python 3"
    },
    "language_info": {
      "name": "python"
    }
  },
  "cells": [
    {
      "cell_type": "markdown",
      "metadata": {
        "id": "view-in-github",
        "colab_type": "text"
      },
      "source": [
        "<a href=\"https://colab.research.google.com/github/MalfyAlshafin/AlHazen_Class/blob/main/Bilangan_binar.ipynb\" target=\"_parent\"><img src=\"https://colab.research.google.com/assets/colab-badge.svg\" alt=\"Open In Colab\"/></a>"
      ]
    },
    {
      "cell_type": "code",
      "execution_count": 3,
      "metadata": {
        "colab": {
          "base_uri": "https://localhost:8080/"
        },
        "id": "02Atnqacv5jn",
        "outputId": "75f6e9b7-666e-426c-ab03-a4ca80ef6b9b"
      },
      "outputs": [
        {
          "output_type": "stream",
          "name": "stdout",
          "text": [
            "Berapakah desimal dari biner 100011\n",
            "Bilangan decimalnya adalah  35\n"
          ]
        }
      ],
      "source": [
        "print(\"Berapakah desimal dari biner 100011\")\n",
        "number =\"100011\"\n",
        "decimal =int(number,2)\n",
        "print(\"Bilangan decimalnya adalah \",decimal)"
      ]
    },
    {
      "cell_type": "code",
      "source": [
        "print(\"Bilangan decimal dari biner 00001011\")\n",
        "number =\"00001011\"\n",
        "decimal =int(number,2)\n",
        "print(\"Yaitu\",decimal)"
      ],
      "metadata": {
        "colab": {
          "base_uri": "https://localhost:8080/"
        },
        "id": "XXyIb2OExYGj",
        "outputId": "f64a0dcf-1412-425d-c190-d8a19eb6c785"
      },
      "execution_count": 4,
      "outputs": [
        {
          "output_type": "stream",
          "name": "stdout",
          "text": [
            "Bilangan decimal dari biner 00001011\n",
            "Yaitu 11\n"
          ]
        }
      ]
    },
    {
      "cell_type": "code",
      "source": [
        "print(\"Bilangan decimal dari biner 00000110\")\n",
        "number =\"00000110\"\n",
        "decimal =int(number,2)\n",
        "print(\"Yitu\",decimal)      "
      ],
      "metadata": {
        "colab": {
          "base_uri": "https://localhost:8080/"
        },
        "id": "RkaXlxbuyWiH",
        "outputId": "81cf1574-8313-42c4-d232-ddb25310d744"
      },
      "execution_count": 5,
      "outputs": [
        {
          "output_type": "stream",
          "name": "stdout",
          "text": [
            "Bilangan decimal dari biner 00000110\n",
            "Yitu 6\n"
          ]
        }
      ]
    },
    {
      "cell_type": "code",
      "source": [
        "print(\"Bilangan decimal dari biner 00001111\")\n",
        "number =\"00001111\"\n",
        "decimal =int(number,2)\n",
        "print(\"Yaitu\",decimal)"
      ],
      "metadata": {
        "colab": {
          "base_uri": "https://localhost:8080/"
        },
        "id": "0vCkHTOPy4JB",
        "outputId": "4c80d9ac-1bb8-4609-b0a2-87ec5f95b00e"
      },
      "execution_count": 7,
      "outputs": [
        {
          "output_type": "stream",
          "name": "stdout",
          "text": [
            "Bilangan decimal dari biner 00001111\n",
            "Yaitu 15\n"
          ]
        }
      ]
    },
    {
      "cell_type": "code",
      "source": [
        "print(\"Berapa bineri dari 15\")\n",
        "decimal =int(15)\n",
        "bineri =bin(decimal)\n",
        "print(\"Bilangan decimal adalah\",decimal)\n",
        "print(\"Bilangan bineri adalah\",bineri)"
      ],
      "metadata": {
        "colab": {
          "base_uri": "https://localhost:8080/"
        },
        "id": "kmppQx9dzht0",
        "outputId": "e0da2929-22d1-46a0-a805-0d1a547f6a08"
      },
      "execution_count": 8,
      "outputs": [
        {
          "output_type": "stream",
          "name": "stdout",
          "text": [
            "Berapa bineri dari 15\n",
            "Bilangan decimal adalah 15\n",
            "Bilangan bineri adalah 0b1111\n"
          ]
        }
      ]
    },
    {
      "cell_type": "code",
      "source": [
        "print(\"Berapakah bineri dari 56\")\n",
        "decimal =int(56)\n",
        "bineri =bin(decimal)\n",
        "print(\"Bilangan bineri adalah\",bineri)"
      ],
      "metadata": {
        "colab": {
          "base_uri": "https://localhost:8080/"
        },
        "id": "hUUwU9dp0VJM",
        "outputId": "f319b51b-f046-4fd0-9562-0cc249a735ca"
      },
      "execution_count": 9,
      "outputs": [
        {
          "output_type": "stream",
          "name": "stdout",
          "text": [
            "Berapakah bineri dari 56\n",
            "Bilangan bineri adalah 0b111000\n"
          ]
        }
      ]
    },
    {
      "cell_type": "code",
      "source": [
        "print(\"Berapakah bineri 9\")\n",
        "decimal =int(9)\n",
        "bineri =bin(decimal)\n",
        "print (\"Adalah\",bineri)"
      ],
      "metadata": {
        "colab": {
          "base_uri": "https://localhost:8080/"
        },
        "id": "mcitn8bI1B3G",
        "outputId": "802946b2-305c-4cd8-d2d0-ac7f86feb445"
      },
      "execution_count": 10,
      "outputs": [
        {
          "output_type": "stream",
          "name": "stdout",
          "text": [
            "Berapakah bineri 9\n",
            "Adalah 0b1001\n"
          ]
        }
      ]
    }
  ]
}