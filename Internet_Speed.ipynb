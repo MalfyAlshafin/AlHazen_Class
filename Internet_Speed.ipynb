{
  "nbformat": 4,
  "nbformat_minor": 0,
  "metadata": {
    "colab": {
      "provenance": [],
      "authorship_tag": "ABX9TyPjoz40Fs8KnN8wp5sIjK72",
      "include_colab_link": true
    },
    "kernelspec": {
      "name": "python3",
      "display_name": "Python 3"
    },
    "language_info": {
      "name": "python"
    }
  },
  "cells": [
    {
      "cell_type": "markdown",
      "metadata": {
        "id": "view-in-github",
        "colab_type": "text"
      },
      "source": [
        "<a href=\"https://colab.research.google.com/github/MalfyAlshafin/AlHazen_Class/blob/main/Internet_Speed.ipynb\" target=\"_parent\"><img src=\"https://colab.research.google.com/assets/colab-badge.svg\" alt=\"Open In Colab\"/></a>"
      ]
    },
    {
      "cell_type": "code",
      "execution_count": 7,
      "metadata": {
        "colab": {
          "base_uri": "https://localhost:8080/"
        },
        "id": "Ydj6HfTYNFEL",
        "outputId": "42a3481e-2b55-440e-9ae7-2f89f7ad6500"
      },
      "outputs": [
        {
          "output_type": "stream",
          "name": "stdout",
          "text": [
            "Internet speed check\n",
            "Wlcome to internet speet test\n",
            "Please input your internet speed\n",
            "1\n",
            "You internet is bad, You can only chating\n"
          ]
        }
      ],
      "source": [
        "print(\"Internet speed check\")\n",
        "print(\"Wlcome to internet speet test\")\n",
        "print(\"Please input your internet speed\")\n",
        "internet_speed = int(input())\n",
        "while internet_speed >0:\n",
        "  if (internet_speed >=25):\n",
        "    print(\"Your internet is good, You can watch Netflix today\")\n",
        "    break\n",
        "  elif(internet_speed <25 and internet_speed >20):\n",
        "    print(\"Your internet is good, you can watch YouTube today\")\n",
        "    break\n",
        "  elif(internet_speed <=20 and internet_speed >5):\n",
        "    print(\"Your internet is fine, You can watch video whit hige definition\")\n",
        "    break\n",
        "  elif(internet_speed <=5 and internet_speed >3):\n",
        "    print(\"Your internet in not bad, You can play online games\")\n",
        "    break\n",
        "  else:\n",
        "    print(\"You internet is bad, You can only chating\")\n",
        "    break"
      ]
    }
  ]
}