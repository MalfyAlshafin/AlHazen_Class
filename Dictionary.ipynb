{
  "nbformat": 4,
  "nbformat_minor": 0,
  "metadata": {
    "colab": {
      "provenance": [],
      "authorship_tag": "ABX9TyMO33OT2AxvRvGbvirxD6jm",
      "include_colab_link": true
    },
    "kernelspec": {
      "name": "python3",
      "display_name": "Python 3"
    },
    "language_info": {
      "name": "python"
    }
  },
  "cells": [
    {
      "cell_type": "markdown",
      "metadata": {
        "id": "view-in-github",
        "colab_type": "text"
      },
      "source": [
        "<a href=\"https://colab.research.google.com/github/MalfyAlshafin/AlHazen_Class/blob/main/Dictionary.ipynb\" target=\"_parent\"><img src=\"https://colab.research.google.com/assets/colab-badge.svg\" alt=\"Open In Colab\"/></a>"
      ]
    },
    {
      "cell_type": "code",
      "execution_count": 8,
      "metadata": {
        "colab": {
          "base_uri": "https://localhost:8080/"
        },
        "id": "3Uo7vn_ok5Hv",
        "outputId": "c286ad90-efcd-4084-fefd-3b02abbc0605"
      },
      "outputs": [
        {
          "output_type": "stream",
          "name": "stdout",
          "text": [
            "The result is 43\n",
            "The result is 41\n",
            "The result is 5\n",
            "The result is 5\n",
            "Rata-rata dari b adalah 8.6\n",
            "Rata-rata dari c adalah 8.2\n"
          ]
        }
      ],
      "source": [
        "a = {\n",
        " 'b' : [7, 9, 8, 9, 10],\n",
        " 'c' : [7, 8, 9, 10, 7]\n",
        "}\n",
        "d=0\n",
        "e=0\n",
        "#Mencari jumlah sebuah list di dictionary\n",
        "for sum in a['b']:\n",
        "  d=d+sum\n",
        "print(\"The result is\", d)\n",
        "for sum in a['c']:\n",
        "  e=e+sum\n",
        "print(\"The result is\", e)\n",
        "#Mencari banyak data dalam sebuah list di dictionary\n",
        "f=len(a['b'])\n",
        "print(\"The result is\", f)\n",
        "\n",
        "g=len(a['c'])\n",
        "print(\"The result is\", g)\n",
        "#Mencari rata-rata list di dictionary\n",
        "h=d/f\n",
        "print(\"Rata-rata dari b adalah\", h)\n",
        "\n",
        "i=e/g\n",
        "print(\"Rata-rata dari c adalah\", i)"
      ]
    }
  ]
}