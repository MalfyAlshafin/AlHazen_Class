{
  "nbformat": 4,
  "nbformat_minor": 0,
  "metadata": {
    "colab": {
      "provenance": [],
      "authorship_tag": "ABX9TyNZUscPlQ9aKXi8le54kwMO",
      "include_colab_link": true
    },
    "kernelspec": {
      "name": "python3",
      "display_name": "Python 3"
    },
    "language_info": {
      "name": "python"
    }
  },
  "cells": [
    {
      "cell_type": "markdown",
      "metadata": {
        "id": "view-in-github",
        "colab_type": "text"
      },
      "source": [
        "<a href=\"https://colab.research.google.com/github/MalfyAlshafin/AlHazen_Class/blob/main/OOP_Inheritance.ipynb\" target=\"_parent\"><img src=\"https://colab.research.google.com/assets/colab-badge.svg\" alt=\"Open In Colab\"/></a>"
      ]
    },
    {
      "cell_type": "code",
      "source": [
        "# sebuah karyawan membutuhkan jr. programming untuk membuat database/ data dari karyawan berdasarkan divisi\n",
        "# divisi yang ada yaitu backend\n",
        "# untuk pendapatan tambahan bisa didapatkan dari project \n",
        "# buat sebuah program untuk data karyawan tersebut\n",
        "\n",
        "class Karyawan:\n",
        "    def __init__ (self, Nama, Usia, Pendapatan):\n",
        "      self.Nama = Nama\n",
        "      self.Usia = Usia\n",
        "      self.Pendapatan = Pendapatan\n",
        "    def a(self):\n",
        "      return self.Nama\n",
        "    def b(self):\n",
        "      return self.Usia\n",
        "    def c(self):\n",
        "      return self.Pendapatan\n",
        "class Beckend(Karyawan):\n",
        "  def __init__(self, Nama, Usia, Pendapatan):\n",
        "    super().__init__(Nama, Usia, Pendapatan)\n",
        "class Frontend(Karyawan):\n",
        "  def __init__(self, Nama, Usia, Pendapatan):\n",
        "    super().__init__(Nama, Usia, Pendapatan)\n",
        "class Fullstacks(Karyawan):\n",
        "  def __init__(self, Nama, Usia, Pendapatan):\n",
        "    super().__init__(Nama, Usia, Pendapatan)\n",
        "d=Fullstacks(\"Malfy\", 20, 100000)\n",
        "print(d.a())\n"
      ],
      "metadata": {
        "colab": {
          "base_uri": "https://localhost:8080/"
        },
        "id": "mRDeCLosCyFi",
        "outputId": "39383eff-ddf5-4660-e782-ee264271486f"
      },
      "execution_count": 7,
      "outputs": [
        {
          "output_type": "stream",
          "name": "stdout",
          "text": [
            "Malfy\n"
          ]
        }
      ]
    }
  ]
}